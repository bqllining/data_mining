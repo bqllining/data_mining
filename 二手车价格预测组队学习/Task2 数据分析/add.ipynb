{
 "nbformat": 4,
 "nbformat_minor": 2,
 "metadata": {
  "language_info": {
   "name": "python",
   "codemirror_mode": {
    "name": "ipython",
    "version": 3
   },
   "version": "3.7.6-candidate"
  },
  "orig_nbformat": 2,
  "file_extension": ".py",
  "mimetype": "text/x-python",
  "name": "python",
  "npconvert_exporter": "python",
  "pygments_lexer": "ipython3",
  "version": 3,
  "kernelspec": {
   "name": "python37664bitcab831ab08294c49b1d3e921d2cedbfc",
   "display_name": "Python 3.7.6 64-bit"
  }
 },
 "cells": [
  {
   "cell_type": "code",
   "execution_count": 1,
   "metadata": {},
   "outputs": [],
   "source": [
    "# 载入需要的库\n",
    "import warnings\n",
    "warnings.filterwarnings('ignore') # 利用过滤器来实现忽略警告语句\n",
    "import pandas as pd\n",
    "import numpy as np\n",
    "import matplotlib.pyplot as plt\n",
    "import seaborn as sns"
   ]
  },
  {
   "cell_type": "code",
   "execution_count": 2,
   "metadata": {},
   "outputs": [],
   "source": [
    "# 载入数据\n",
    "Train_data = pd.read_csv('E:/Git-repository/data_mining/二手车价格预测组队学习/data/used_car_train_20200313.csv', sep=' ')\n",
    "Test_data = pd.read_csv('E:/Git-repository/data_mining/二手车价格预测组队学习/data/used_car_testA_20200313.csv', sep=' ')"
   ]
  },
  {
   "cell_type": "code",
   "execution_count": 3,
   "metadata": {},
   "outputs": [],
   "source": [
    "Train_data['notRepairedDamage'].replace('-', np.nan, inplace=True)"
   ]
  },
  {
   "cell_type": "code",
   "execution_count": 4,
   "metadata": {},
   "outputs": [],
   "source": [
    "Test_data['notRepairedDamage'].replace('-', np.nan, inplace=True)"
   ]
  },
  {
   "cell_type": "code",
   "execution_count": 5,
   "metadata": {},
   "outputs": [],
   "source": [
    "del Train_data['seller']\n",
    "del Train_data['offerType']\n",
    "del Test_data['seller']\n",
    "del Test_data['offerType']"
   ]
  },
  {
   "cell_type": "code",
   "execution_count": 6,
   "metadata": {},
   "outputs": [],
   "source": [
    "Y_train = Train_data['price']"
   ]
  },
  {
   "cell_type": "code",
   "execution_count": null,
   "metadata": {},
   "outputs": [],
   "source": [
    "# 数字特征相互之间的关系可视化\n",
    "sns.set()\n",
    "columns = ['price','v_12','v_8', 'v_0', 'power', 'v_5', 'v_2', 'v_6', 'v_1', 'v_14']\n",
    "sns.pairplot(Train_data[columns], size=2, kind='scatter', diag_kind='kde')\n",
    "plt.show()"
   ]
  },
  {
   "cell_type": "code",
   "execution_count": null,
   "metadata": {},
   "outputs": [],
   "source": [
    "# 多变量互相回归关系可视化\n",
    "fig, ((ax1,ax2), (ax3,ax4), (ax5,ax6), (ax7,ax8), (ax9,ax10)) = plt.subplots(nrows=5, ncols=2, figsize=(24,20))\n",
    "v_12_scatter_plot = pd.concat([Y_train, Train_data['v_12']], axis=1)\n",
    "sns.regplot(x='v_12', y='price', data=v_12_scatter_plot, scatter=True, fit_reg=True, ax=ax1)\n",
    "\n",
    "v_8_scatter_plot = pd.concat([Y_train, Train_data['v_8']], axis=1)\n",
    "sns.regplot(x='v_8', y='price', data=v_8_scatter_plot, scatter=True, fit_reg=True, ax=ax2)\n",
    "\n",
    "v_0_scatter_plot = pd.concat([Y_train, Train_data['v_0']], axis=1)\n",
    "sns.regplot(x='v_0', y='price', data=v_0_scatter_plot, scatter=True, fit_reg=True, ax=ax3)\n",
    "\n",
    "power_scatter_plot = pd.concat([Y_train, Train_data['power']], axis=1)\n",
    "sns.regplot(x='power', y='price', data=power_scatter_plot, scatter=True, fit_reg=True, ax=ax4)\n",
    "\n",
    "v_5_scatter_plot = pd.concat([Y_train, Train_data['v_5']], axis=1)\n",
    "sns.regplot(x='v_5', y='price', data=v_5_scatter_plot, scatter=True, fit_reg=True, ax=ax5)\n",
    "\n",
    "v_2_scatter_plot = pd.concat([Y_train, Train_data['v_2']], axis=1)\n",
    "sns.regplot(x='v_2', y='price', data=v_2_scatter_plot, scatter=True, fit_reg=True, ax=ax6)\n",
    "\n",
    "v_6_scatter_plot = pd.concat([Y_train, Train_data['v_6']], axis=1)\n",
    "sns.regplot(x='v_6', y='price', data=v_6_scatter_plot, scatter=True, fit_reg=True, ax=ax7)\n",
    "\n",
    "v_1_scatter_plot = pd.concat([Y_train, Train_data['v_1']], axis=1)\n",
    "sns.regplot(x='v_1', y='price', data=v_1_scatter_plot, scatter=True, fit_reg=True, ax=ax8)\n",
    "\n",
    "v_14_scatter_plot = pd.concat([Y_train, Train_data['v_14']], axis=1)\n",
    "sns.regplot(x='v_14', y='price', data=v_14_scatter_plot, scatter=True, fit_reg=True, ax=ax9)\n",
    "\n",
    "v_13_scatter_plot = pd.concat([Y_train, Train_data['v_13']], axis=1)\n",
    "sns.regplot(x='v_13', y='price', data=v_13_scatter_plot, scatter=True, fit_reg=True, ax=ax10)"
   ]
  }
 ]
}